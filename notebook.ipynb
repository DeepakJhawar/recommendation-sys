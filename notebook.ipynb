{
 "cells": [
  {
   "cell_type": "code",
   "execution_count": 1,
   "metadata": {},
   "outputs": [
    {
     "name": "stdout",
     "output_type": "stream",
     "text": [
      "Requirement already satisfied: pandas in c:\\users\\deepa\\appdata\\local\\programs\\python\\python312\\lib\\site-packages (2.2.2)\n",
      "Requirement already satisfied: numpy in c:\\users\\deepa\\appdata\\local\\programs\\python\\python312\\lib\\site-packages (1.26.4)\n",
      "Requirement already satisfied: seaborn in c:\\users\\deepa\\appdata\\local\\programs\\python\\python312\\lib\\site-packages (0.13.2)\n",
      "Requirement already satisfied: scikit-learn in c:\\users\\deepa\\appdata\\local\\programs\\python\\python312\\lib\\site-packages (1.4.2)\n",
      "Requirement already satisfied: annoy in c:\\users\\deepa\\appdata\\local\\programs\\python\\python312\\lib\\site-packages (1.17.3)\n",
      "Requirement already satisfied: python-dateutil>=2.8.2 in c:\\users\\deepa\\appdata\\local\\programs\\python\\python312\\lib\\site-packages (from pandas) (2.8.2)\n",
      "Requirement already satisfied: pytz>=2020.1 in c:\\users\\deepa\\appdata\\local\\programs\\python\\python312\\lib\\site-packages (from pandas) (2024.1)\n",
      "Requirement already satisfied: tzdata>=2022.7 in c:\\users\\deepa\\appdata\\local\\programs\\python\\python312\\lib\\site-packages (from pandas) (2024.1)\n",
      "Requirement already satisfied: matplotlib!=3.6.1,>=3.4 in c:\\users\\deepa\\appdata\\local\\programs\\python\\python312\\lib\\site-packages (from seaborn) (3.8.3)\n",
      "Requirement already satisfied: scipy>=1.6.0 in c:\\users\\deepa\\appdata\\local\\programs\\python\\python312\\lib\\site-packages (from scikit-learn) (1.12.0)\n",
      "Requirement already satisfied: joblib>=1.2.0 in c:\\users\\deepa\\appdata\\local\\programs\\python\\python312\\lib\\site-packages (from scikit-learn) (1.4.2)\n",
      "Requirement already satisfied: threadpoolctl>=2.0.0 in c:\\users\\deepa\\appdata\\local\\programs\\python\\python312\\lib\\site-packages (from scikit-learn) (3.5.0)\n",
      "Requirement already satisfied: contourpy>=1.0.1 in c:\\users\\deepa\\appdata\\local\\programs\\python\\python312\\lib\\site-packages (from matplotlib!=3.6.1,>=3.4->seaborn) (1.2.0)\n",
      "Requirement already satisfied: cycler>=0.10 in c:\\users\\deepa\\appdata\\local\\programs\\python\\python312\\lib\\site-packages (from matplotlib!=3.6.1,>=3.4->seaborn) (0.12.1)\n",
      "Requirement already satisfied: fonttools>=4.22.0 in c:\\users\\deepa\\appdata\\local\\programs\\python\\python312\\lib\\site-packages (from matplotlib!=3.6.1,>=3.4->seaborn) (4.49.0)\n",
      "Requirement already satisfied: kiwisolver>=1.3.1 in c:\\users\\deepa\\appdata\\local\\programs\\python\\python312\\lib\\site-packages (from matplotlib!=3.6.1,>=3.4->seaborn) (1.4.5)\n",
      "Requirement already satisfied: packaging>=20.0 in c:\\users\\deepa\\appdata\\local\\programs\\python\\python312\\lib\\site-packages (from matplotlib!=3.6.1,>=3.4->seaborn) (23.2)\n",
      "Requirement already satisfied: pillow>=8 in c:\\users\\deepa\\appdata\\local\\programs\\python\\python312\\lib\\site-packages (from matplotlib!=3.6.1,>=3.4->seaborn) (10.2.0)\n",
      "Requirement already satisfied: pyparsing>=2.3.1 in c:\\users\\deepa\\appdata\\local\\programs\\python\\python312\\lib\\site-packages (from matplotlib!=3.6.1,>=3.4->seaborn) (3.1.1)\n",
      "Requirement already satisfied: six>=1.5 in c:\\users\\deepa\\appdata\\local\\programs\\python\\python312\\lib\\site-packages (from python-dateutil>=2.8.2->pandas) (1.16.0)\n"
     ]
    }
   ],
   "source": [
    "!pip install pandas numpy seaborn scikit-learn annoy\n",
    "\n",
    "import os\n",
    "import pandas as pd\n",
    "import numpy as np\n",
    "import seaborn as sns\n",
    "from sklearn.feature_extraction.text import TfidfVectorizer\n",
    "from sklearn.metrics.pairwise import cosine_similarity\n",
    "from sklearn.decomposition import TruncatedSVD"
   ]
  },
  {
   "cell_type": "code",
   "execution_count": 2,
   "metadata": {},
   "outputs": [
    {
     "name": "stdout",
     "output_type": "stream",
     "text": [
      "611,880 7,015,280 6,403,400\n"
     ]
    }
   ],
   "source": [
    "all_beauty = pd.read_csv(\"all_beauty.csv\")\n",
    "common = all_beauty[all_beauty[\"asin\"] != all_beauty[\"parent_asin\"]]\n",
    "print(format(common.size, \",\"), format(all_beauty.size, ','), format(all_beauty.size - common.size, ','))"
   ]
  },
  {
   "cell_type": "code",
   "execution_count": 3,
   "metadata": {},
   "outputs": [
    {
     "data": {
      "text/plain": [
       "rating                 0\n",
       "title                160\n",
       "text                 212\n",
       "images                 0\n",
       "asin                   0\n",
       "parent_asin            0\n",
       "user_id                0\n",
       "timestamp              0\n",
       "helpful_vote           0\n",
       "verified_purchase      0\n",
       "dtype: int64"
      ]
     },
     "execution_count": 3,
     "metadata": {},
     "output_type": "execute_result"
    }
   ],
   "source": [
    "all_beauty.isna().sum()"
   ]
  },
  {
   "cell_type": "code",
   "execution_count": 4,
   "metadata": {},
   "outputs": [
    {
     "data": {
      "text/html": [
       "<div>\n",
       "<style scoped>\n",
       "    .dataframe tbody tr th:only-of-type {\n",
       "        vertical-align: middle;\n",
       "    }\n",
       "\n",
       "    .dataframe tbody tr th {\n",
       "        vertical-align: top;\n",
       "    }\n",
       "\n",
       "    .dataframe thead th {\n",
       "        text-align: right;\n",
       "    }\n",
       "</style>\n",
       "<table border=\"1\" class=\"dataframe\">\n",
       "  <thead>\n",
       "    <tr style=\"text-align: right;\">\n",
       "      <th></th>\n",
       "      <th>rating</th>\n",
       "      <th>parent_asin</th>\n",
       "      <th>user_id</th>\n",
       "    </tr>\n",
       "  </thead>\n",
       "  <tbody>\n",
       "    <tr>\n",
       "      <th>0</th>\n",
       "      <td>5.0</td>\n",
       "      <td>B00YQ6X8EO</td>\n",
       "      <td>AGKHLEW2SOWHNMFQIJGBECAF7INQ</td>\n",
       "    </tr>\n",
       "    <tr>\n",
       "      <th>1</th>\n",
       "      <td>4.0</td>\n",
       "      <td>B081TJ8YS3</td>\n",
       "      <td>AGKHLEW2SOWHNMFQIJGBECAF7INQ</td>\n",
       "    </tr>\n",
       "    <tr>\n",
       "      <th>2</th>\n",
       "      <td>5.0</td>\n",
       "      <td>B097R46CSY</td>\n",
       "      <td>AE74DYR3QUGVPZJ3P7RFWBGIX7XQ</td>\n",
       "    </tr>\n",
       "    <tr>\n",
       "      <th>3</th>\n",
       "      <td>1.0</td>\n",
       "      <td>B09JS339BZ</td>\n",
       "      <td>AFQLNQNQYFWQZPJQZS6V3NZU4QBQ</td>\n",
       "    </tr>\n",
       "    <tr>\n",
       "      <th>4</th>\n",
       "      <td>5.0</td>\n",
       "      <td>B08BZ63GMJ</td>\n",
       "      <td>AFQLNQNQYFWQZPJQZS6V3NZU4QBQ</td>\n",
       "    </tr>\n",
       "    <tr>\n",
       "      <th>...</th>\n",
       "      <td>...</td>\n",
       "      <td>...</td>\n",
       "      <td>...</td>\n",
       "    </tr>\n",
       "    <tr>\n",
       "      <th>701523</th>\n",
       "      <td>4.0</td>\n",
       "      <td>B006YUIWKA</td>\n",
       "      <td>AFIXGFVEGLMOTMBTJL7H3VSIETDQ</td>\n",
       "    </tr>\n",
       "    <tr>\n",
       "      <th>701524</th>\n",
       "      <td>1.0</td>\n",
       "      <td>B006YUIWKA</td>\n",
       "      <td>AFV7YZFOJF564EZGET5LG45K4QEA</td>\n",
       "    </tr>\n",
       "    <tr>\n",
       "      <th>701525</th>\n",
       "      <td>5.0</td>\n",
       "      <td>B06ZZV9MZT</td>\n",
       "      <td>AHYDCWDMMVMLBX7FY7M7JKADKRDQ</td>\n",
       "    </tr>\n",
       "    <tr>\n",
       "      <th>701526</th>\n",
       "      <td>5.0</td>\n",
       "      <td>B000HB6VLE</td>\n",
       "      <td>AF6ZIAEN7TQ2WY5ZL77F6JDPV7XQ</td>\n",
       "    </tr>\n",
       "    <tr>\n",
       "      <th>701527</th>\n",
       "      <td>4.0</td>\n",
       "      <td>B0093MXHFG</td>\n",
       "      <td>AGIYQU6RK6TBKBCMWKVPBPBMMJNA</td>\n",
       "    </tr>\n",
       "  </tbody>\n",
       "</table>\n",
       "<p>701528 rows × 3 columns</p>\n",
       "</div>"
      ],
      "text/plain": [
       "        rating parent_asin                       user_id\n",
       "0          5.0  B00YQ6X8EO  AGKHLEW2SOWHNMFQIJGBECAF7INQ\n",
       "1          4.0  B081TJ8YS3  AGKHLEW2SOWHNMFQIJGBECAF7INQ\n",
       "2          5.0  B097R46CSY  AE74DYR3QUGVPZJ3P7RFWBGIX7XQ\n",
       "3          1.0  B09JS339BZ  AFQLNQNQYFWQZPJQZS6V3NZU4QBQ\n",
       "4          5.0  B08BZ63GMJ  AFQLNQNQYFWQZPJQZS6V3NZU4QBQ\n",
       "...        ...         ...                           ...\n",
       "701523     4.0  B006YUIWKA  AFIXGFVEGLMOTMBTJL7H3VSIETDQ\n",
       "701524     1.0  B006YUIWKA  AFV7YZFOJF564EZGET5LG45K4QEA\n",
       "701525     5.0  B06ZZV9MZT  AHYDCWDMMVMLBX7FY7M7JKADKRDQ\n",
       "701526     5.0  B000HB6VLE  AF6ZIAEN7TQ2WY5ZL77F6JDPV7XQ\n",
       "701527     4.0  B0093MXHFG  AGIYQU6RK6TBKBCMWKVPBPBMMJNA\n",
       "\n",
       "[701528 rows x 3 columns]"
      ]
     },
     "execution_count": 4,
     "metadata": {},
     "output_type": "execute_result"
    }
   ],
   "source": [
    "review_data = all_beauty.drop(columns=[\"title\", \"text\", \"images\", \"timestamp\", \"helpful_vote\", \"asin\", \"verified_purchase\"])\n",
    "review_data"
   ]
  },
  {
   "cell_type": "code",
   "execution_count": 5,
   "metadata": {},
   "outputs": [
    {
     "data": {
      "text/plain": [
       "rating         0\n",
       "parent_asin    0\n",
       "user_id        0\n",
       "dtype: int64"
      ]
     },
     "execution_count": 5,
     "metadata": {},
     "output_type": "execute_result"
    }
   ],
   "source": [
    "review_data.isna().sum()"
   ]
  },
  {
   "cell_type": "code",
   "execution_count": 6,
   "metadata": {},
   "outputs": [],
   "source": [
    "# review_data[review_data[\"verified_purchase\"] == False].count()"
   ]
  },
  {
   "cell_type": "code",
   "execution_count": 7,
   "metadata": {},
   "outputs": [
    {
     "data": {
      "text/plain": [
       "count    701528.000000\n",
       "mean          3.960245\n",
       "std           1.494452\n",
       "min           1.000000\n",
       "25%           3.000000\n",
       "50%           5.000000\n",
       "75%           5.000000\n",
       "max           5.000000\n",
       "Name: rating, dtype: float64"
      ]
     },
     "execution_count": 7,
     "metadata": {},
     "output_type": "execute_result"
    }
   ],
   "source": [
    "review_data.describe()['rating']"
   ]
  },
  {
   "cell_type": "code",
   "execution_count": 8,
   "metadata": {},
   "outputs": [
    {
     "name": "stdout",
     "output_type": "stream",
     "text": [
      "Minimum rating is: 1.0\n",
      "Maximum rating is: 5.0\n"
     ]
    }
   ],
   "source": [
    "print(f'Minimum rating is: {review_data.rating.min()}')\n",
    "print(f'Maximum rating is: {review_data.rating.max()}')"
   ]
  },
  {
   "cell_type": "code",
   "execution_count": 9,
   "metadata": {},
   "outputs": [
    {
     "data": {
      "image/png": "[encoded data removed]",
      "text/plain": [
       "<Figure size 1011.11x500 with 1 Axes>"
      ]
     },
     "metadata": {},
     "output_type": "display_data"
    }
   ],
   "source": [
    "with sns.axes_style('whitegrid'):\n",
    "    g = sns.catplot(\n",
    "        x=\"rating\",\n",
    "        data=review_data,\n",
    "        aspect=2.0,\n",
    "        kind='count'\n",
    "    )\n",
    "    g.set_ylabels(\"Total number of ratings\")\n"
   ]
  },
  {
   "cell_type": "code",
   "execution_count": 10,
   "metadata": {},
   "outputs": [
    {
     "name": "stdout",
     "output_type": "stream",
     "text": [
      "Total no of users: 631,986\n",
      "Total no of products: 112,565\n",
      "Total no of products: 701,528\n"
     ]
    }
   ],
   "source": [
    "print(f\"Total no of users: {len(np.unique(review_data.user_id)):,}\")\n",
    "print(f\"Total no of products: {len(np.unique(review_data.parent_asin)):,}\")\n",
    "print(f\"Total no of products: {len(review_data):,}\")"
   ]
  },
  {
   "cell_type": "code",
   "execution_count": 11,
   "metadata": {},
   "outputs": [
    {
     "data": {
      "text/html": [
       "<div>\n",
       "<style scoped>\n",
       "    .dataframe tbody tr th:only-of-type {\n",
       "        vertical-align: middle;\n",
       "    }\n",
       "\n",
       "    .dataframe tbody tr th {\n",
       "        vertical-align: top;\n",
       "    }\n",
       "\n",
       "    .dataframe thead th {\n",
       "        text-align: right;\n",
       "    }\n",
       "</style>\n",
       "<table border=\"1\" class=\"dataframe\">\n",
       "  <thead>\n",
       "    <tr style=\"text-align: right;\">\n",
       "      <th></th>\n",
       "      <th>rating</th>\n",
       "      <th>parent_asin</th>\n",
       "      <th>user_id</th>\n",
       "    </tr>\n",
       "  </thead>\n",
       "  <tbody>\n",
       "    <tr>\n",
       "      <th>0</th>\n",
       "      <td>5.0</td>\n",
       "      <td>B00YQ6X8EO</td>\n",
       "      <td>AGKHLEW2SOWHNMFQIJGBECAF7INQ</td>\n",
       "    </tr>\n",
       "    <tr>\n",
       "      <th>1</th>\n",
       "      <td>4.0</td>\n",
       "      <td>B081TJ8YS3</td>\n",
       "      <td>AGKHLEW2SOWHNMFQIJGBECAF7INQ</td>\n",
       "    </tr>\n",
       "    <tr>\n",
       "      <th>2</th>\n",
       "      <td>5.0</td>\n",
       "      <td>B097R46CSY</td>\n",
       "      <td>AE74DYR3QUGVPZJ3P7RFWBGIX7XQ</td>\n",
       "    </tr>\n",
       "    <tr>\n",
       "      <th>3</th>\n",
       "      <td>1.0</td>\n",
       "      <td>B09JS339BZ</td>\n",
       "      <td>AFQLNQNQYFWQZPJQZS6V3NZU4QBQ</td>\n",
       "    </tr>\n",
       "    <tr>\n",
       "      <th>4</th>\n",
       "      <td>5.0</td>\n",
       "      <td>B08BZ63GMJ</td>\n",
       "      <td>AFQLNQNQYFWQZPJQZS6V3NZU4QBQ</td>\n",
       "    </tr>\n",
       "  </tbody>\n",
       "</table>\n",
       "</div>"
      ],
      "text/plain": [
       "   rating parent_asin                       user_id\n",
       "0     5.0  B00YQ6X8EO  AGKHLEW2SOWHNMFQIJGBECAF7INQ\n",
       "1     4.0  B081TJ8YS3  AGKHLEW2SOWHNMFQIJGBECAF7INQ\n",
       "2     5.0  B097R46CSY  AE74DYR3QUGVPZJ3P7RFWBGIX7XQ\n",
       "3     1.0  B09JS339BZ  AFQLNQNQYFWQZPJQZS6V3NZU4QBQ\n",
       "4     5.0  B08BZ63GMJ  AFQLNQNQYFWQZPJQZS6V3NZU4QBQ"
      ]
     },
     "execution_count": 11,
     "metadata": {},
     "output_type": "execute_result"
    }
   ],
   "source": [
    "review_data.head()"
   ]
  },
  {
   "cell_type": "code",
   "execution_count": 12,
   "metadata": {},
   "outputs": [
    {
     "name": "stdout",
     "output_type": "stream",
     "text": [
      "<class 'pandas.core.frame.DataFrame'>\n",
      "RangeIndex: 112590 entries, 0 to 112589\n",
      "Data columns (total 14 columns):\n",
      " #   Column           Non-Null Count   Dtype  \n",
      "---  ------           --------------   -----  \n",
      " 0   main_category    112590 non-null  object \n",
      " 1   title            112578 non-null  object \n",
      " 2   average_rating   112590 non-null  float64\n",
      " 3   rating_number    112590 non-null  int64  \n",
      " 4   features         112590 non-null  object \n",
      " 5   description      112590 non-null  object \n",
      " 6   price            17704 non-null   float64\n",
      " 7   images           112590 non-null  object \n",
      " 8   videos           112590 non-null  object \n",
      " 9   store            101246 non-null  object \n",
      " 10  categories       112590 non-null  object \n",
      " 11  details          112590 non-null  object \n",
      " 12  parent_asin      112590 non-null  object \n",
      " 13  bought_together  0 non-null       float64\n",
      "dtypes: float64(3), int64(1), object(10)\n",
      "memory usage: 12.0+ MB\n"
     ]
    },
    {
     "data": {
      "text/plain": [
       "93428"
      ]
     },
     "execution_count": 12,
     "metadata": {},
     "output_type": "execute_result"
    }
   ],
   "source": [
    "meta_data = pd.read_csv(\"meta_All_Beauty.csv\")\n",
    "meta_data.info()\n",
    "len(meta_data[meta_data[\"description\"] == \"[]\"])"
   ]
  },
  {
   "cell_type": "code",
   "execution_count": 13,
   "metadata": {},
   "outputs": [
    {
     "data": {
      "text/html": [
       "<div>\n",
       "<style scoped>\n",
       "    .dataframe tbody tr th:only-of-type {\n",
       "        vertical-align: middle;\n",
       "    }\n",
       "\n",
       "    .dataframe tbody tr th {\n",
       "        vertical-align: top;\n",
       "    }\n",
       "\n",
       "    .dataframe thead th {\n",
       "        text-align: right;\n",
       "    }\n",
       "</style>\n",
       "<table border=\"1\" class=\"dataframe\">\n",
       "  <thead>\n",
       "    <tr style=\"text-align: right;\">\n",
       "      <th></th>\n",
       "      <th>main_category</th>\n",
       "      <th>title</th>\n",
       "      <th>average_rating</th>\n",
       "      <th>rating_number</th>\n",
       "      <th>features</th>\n",
       "      <th>description</th>\n",
       "      <th>price</th>\n",
       "      <th>images</th>\n",
       "      <th>videos</th>\n",
       "      <th>store</th>\n",
       "      <th>categories</th>\n",
       "      <th>details</th>\n",
       "      <th>parent_asin</th>\n",
       "      <th>bought_together</th>\n",
       "    </tr>\n",
       "  </thead>\n",
       "  <tbody>\n",
       "    <tr>\n",
       "      <th>0</th>\n",
       "      <td>All Beauty</td>\n",
       "      <td>Howard LC0008 Leather Conditioner, 8-Ounce (4-...</td>\n",
       "      <td>4.8</td>\n",
       "      <td>10</td>\n",
       "      <td>[]</td>\n",
       "      <td>[]</td>\n",
       "      <td>NaN</td>\n",
       "      <td>[{'thumb': 'https://m.media-amazon.com/images/...</td>\n",
       "      <td>[]</td>\n",
       "      <td>Howard Products</td>\n",
       "      <td>[]</td>\n",
       "      <td>{'Package Dimensions': '7.1 x 5.5 x 3 inches; ...</td>\n",
       "      <td>B01CUPMQZE</td>\n",
       "      <td>NaN</td>\n",
       "    </tr>\n",
       "    <tr>\n",
       "      <th>1</th>\n",
       "      <td>All Beauty</td>\n",
       "      <td>Yes to Tomatoes Detoxifying Charcoal Cleanser ...</td>\n",
       "      <td>4.5</td>\n",
       "      <td>3</td>\n",
       "      <td>[]</td>\n",
       "      <td>[]</td>\n",
       "      <td>NaN</td>\n",
       "      <td>[{'thumb': 'https://m.media-amazon.com/images/...</td>\n",
       "      <td>[]</td>\n",
       "      <td>Yes To</td>\n",
       "      <td>[]</td>\n",
       "      <td>{'Item Form': 'Powder', 'Skin Type': 'Acne Pro...</td>\n",
       "      <td>B076WQZGPM</td>\n",
       "      <td>NaN</td>\n",
       "    </tr>\n",
       "    <tr>\n",
       "      <th>2</th>\n",
       "      <td>All Beauty</td>\n",
       "      <td>Eye Patch Black Adult with Tie Band (6 Per Pack)</td>\n",
       "      <td>4.4</td>\n",
       "      <td>26</td>\n",
       "      <td>[]</td>\n",
       "      <td>[]</td>\n",
       "      <td>NaN</td>\n",
       "      <td>[{'thumb': 'https://m.media-amazon.com/images/...</td>\n",
       "      <td>[]</td>\n",
       "      <td>Levine Health Products</td>\n",
       "      <td>[]</td>\n",
       "      <td>{'Manufacturer': 'Levine Health Products'}</td>\n",
       "      <td>B000B658RI</td>\n",
       "      <td>NaN</td>\n",
       "    </tr>\n",
       "    <tr>\n",
       "      <th>3</th>\n",
       "      <td>All Beauty</td>\n",
       "      <td>Tattoo Eyebrow Stickers, Waterproof Eyebrow, 4...</td>\n",
       "      <td>3.1</td>\n",
       "      <td>102</td>\n",
       "      <td>[]</td>\n",
       "      <td>[]</td>\n",
       "      <td>NaN</td>\n",
       "      <td>[{'thumb': 'https://m.media-amazon.com/images/...</td>\n",
       "      <td>[]</td>\n",
       "      <td>Cherioll</td>\n",
       "      <td>[]</td>\n",
       "      <td>{'Brand': 'Cherioll', 'Item Form': 'Powder', '...</td>\n",
       "      <td>B088FKY3VD</td>\n",
       "      <td>NaN</td>\n",
       "    </tr>\n",
       "    <tr>\n",
       "      <th>4</th>\n",
       "      <td>All Beauty</td>\n",
       "      <td>Precision Plunger Bars for Cartridge Grips – 9...</td>\n",
       "      <td>4.3</td>\n",
       "      <td>7</td>\n",
       "      <td>['Material: 304 Stainless Steel; Brass tip', '...</td>\n",
       "      <td>['The Precision Plunger Bars are designed to w...</td>\n",
       "      <td>NaN</td>\n",
       "      <td>[{'thumb': 'https://m.media-amazon.com/images/...</td>\n",
       "      <td>[]</td>\n",
       "      <td>Precision</td>\n",
       "      <td>[]</td>\n",
       "      <td>{'UPC': '644287689178'}</td>\n",
       "      <td>B07NGFDN6G</td>\n",
       "      <td>NaN</td>\n",
       "    </tr>\n",
       "  </tbody>\n",
       "</table>\n",
       "</div>"
      ],
      "text/plain": [
       "  main_category                                              title  \\\n",
       "0    All Beauty  Howard LC0008 Leather Conditioner, 8-Ounce (4-...   \n",
       "1    All Beauty  Yes to Tomatoes Detoxifying Charcoal Cleanser ...   \n",
       "2    All Beauty   Eye Patch Black Adult with Tie Band (6 Per Pack)   \n",
       "3    All Beauty  Tattoo Eyebrow Stickers, Waterproof Eyebrow, 4...   \n",
       "4    All Beauty  Precision Plunger Bars for Cartridge Grips – 9...   \n",
       "\n",
       "   average_rating  rating_number  \\\n",
       "0             4.8             10   \n",
       "1             4.5              3   \n",
       "2             4.4             26   \n",
       "3             3.1            102   \n",
       "4             4.3              7   \n",
       "\n",
       "                                            features  \\\n",
       "0                                                 []   \n",
       "1                                                 []   \n",
       "2                                                 []   \n",
       "3                                                 []   \n",
       "4  ['Material: 304 Stainless Steel; Brass tip', '...   \n",
       "\n",
       "                                         description  price  \\\n",
       "0                                                 []    NaN   \n",
       "1                                                 []    NaN   \n",
       "2                                                 []    NaN   \n",
       "3                                                 []    NaN   \n",
       "4  ['The Precision Plunger Bars are designed to w...    NaN   \n",
       "\n",
       "                                              images videos  \\\n",
       "0  [{'thumb': 'https://m.media-amazon.com/images/...     []   \n",
       "1  [{'thumb': 'https://m.media-amazon.com/images/...     []   \n",
       "2  [{'thumb': 'https://m.media-amazon.com/images/...     []   \n",
       "3  [{'thumb': 'https://m.media-amazon.com/images/...     []   \n",
       "4  [{'thumb': 'https://m.media-amazon.com/images/...     []   \n",
       "\n",
       "                    store categories  \\\n",
       "0         Howard Products         []   \n",
       "1                  Yes To         []   \n",
       "2  Levine Health Products         []   \n",
       "3                Cherioll         []   \n",
       "4               Precision         []   \n",
       "\n",
       "                                             details parent_asin  \\\n",
       "0  {'Package Dimensions': '7.1 x 5.5 x 3 inches; ...  B01CUPMQZE   \n",
       "1  {'Item Form': 'Powder', 'Skin Type': 'Acne Pro...  B076WQZGPM   \n",
       "2         {'Manufacturer': 'Levine Health Products'}  B000B658RI   \n",
       "3  {'Brand': 'Cherioll', 'Item Form': 'Powder', '...  B088FKY3VD   \n",
       "4                            {'UPC': '644287689178'}  B07NGFDN6G   \n",
       "\n",
       "   bought_together  \n",
       "0              NaN  \n",
       "1              NaN  \n",
       "2              NaN  \n",
       "3              NaN  \n",
       "4              NaN  "
      ]
     },
     "execution_count": 13,
     "metadata": {},
     "output_type": "execute_result"
    }
   ],
   "source": [
    "meta_data.head()"
   ]
  },
  {
   "cell_type": "markdown",
   "metadata": {},
   "source": [
    "## Conent based filtering\n",
    "\n",
    "Step 1: Combine relevant text features (title, description, categories)"
   ]
  },
  {
   "cell_type": "code",
   "execution_count": 14,
   "metadata": {},
   "outputs": [
    {
     "data": {
      "text/plain": [
       "'howard lc0008 leather conditioner, 8-ounce (4-pack)'"
      ]
     },
     "execution_count": 14,
     "metadata": {},
     "output_type": "execute_result"
    }
   ],
   "source": [
    "meta_data['combined_features'] = meta_data['title'].str.lower() #+ ' ' + meta_data['description'].apply(lambda x: '' if x == \"[]\" else x)\n",
    "meta_data = meta_data[meta_data['combined_features'].notna()]\n",
    "meta_data['combined_features'] = meta_data['combined_features'].apply(lambda x: x.strip())\n",
    "meta_data['combined_features'][0]"
   ]
  },
  {
   "cell_type": "markdown",
   "metadata": {},
   "source": [
    "Step 2: TF-IDF Vectorization"
   ]
  },
  {
   "cell_type": "code",
   "execution_count": 15,
   "metadata": {},
   "outputs": [
    {
     "data": {
      "text/plain": [
       "<112578x5000 sparse matrix of type '<class 'numpy.float64'>'\n",
       "\twith 1430138 stored elements in Compressed Sparse Row format>"
      ]
     },
     "execution_count": 15,
     "metadata": {},
     "output_type": "execute_result"
    }
   ],
   "source": [
    "tfidf_vectorizer = TfidfVectorizer(max_features=5000, stop_words='english')\n",
    "tfidf_matrix = tfidf_vectorizer.fit_transform(meta_data['combined_features'])\n",
    "tfidf_matrix"
   ]
  },
  {
   "cell_type": "markdown",
   "metadata": {},
   "source": [
    "Step 3: Calculate the ANN "
   ]
  },
  {
   "cell_type": "code",
   "execution_count": 16,
   "metadata": {},
   "outputs": [],
   "source": [
    "from annoy import AnnoyIndex\n",
    "\n",
    "num_features = tfidf_matrix.shape[1]\n",
    "annoy_index = AnnoyIndex(num_features, 'angular')\n",
    "if os.path.exists(\"product_similarity.index\"):\n",
    "    annoy_index.load(\"product_similarity.index\")\n",
    "else:\n",
    "    # Add items to the index (you can use the sparse matrix by converting each row to a dense array)\n",
    "    for i in range(tfidf_matrix.shape[0]):\n",
    "        annoy_index.add_item(i, tfidf_matrix[i].toarray().flatten())  # Convert sparse row to dense array\n",
    "\n",
    "    # Build the index (number of trees can be adjusted)\n",
    "    annoy_index.build(10)"
   ]
  },
  {
   "cell_type": "code",
   "execution_count": 17,
   "metadata": {},
   "outputs": [
    {
     "data": {
      "text/plain": [
       "True"
      ]
     },
     "execution_count": 17,
     "metadata": {},
     "output_type": "execute_result"
    }
   ],
   "source": [
    "annoy_index.save('product_similarity.index')\n"
   ]
  },
  {
   "cell_type": "code",
   "execution_count": null,
   "metadata": {},
   "outputs": [
    {
     "data": {
      "text/plain": [
       "[('B06XJZ7955', 1.0),\n",
       " ('B079Q4W3K4', 0.6291491871898494),\n",
       " ('B08W6ZDCWL', 0.6251843003221523),\n",
       " ('B07X7M4D2N', 0.6236265618454447),\n",
       " ('B015X6GMPM', 0.6187147830858116),\n",
       " ('B0972F831V', 0.6183860612592571),\n",
       " ('B08Z8M56WV', 0.6158529338235763),\n",
       " ('B00GX6RIQY', 0.6158529338235763),\n",
       " ('B07C9N2GW2', 0.613456334280305),\n",
       " ('B0BFLNDCGH', 0.6134314040898344)]"
      ]
     },
     "execution_count": 93,
     "metadata": {},
     "output_type": "execute_result"
    }
   ],
   "source": [
    "def get_content_based_similarity(idx):\n",
    "    # Get 10 nearest neighbors (indices and distances)\n",
    "    neighbors = annoy_index.get_nns_by_item(idx, 10, include_distances=True)\n",
    "    \n",
    "    # Get indices and corresponding distances\n",
    "    indices = neighbors[0]\n",
    "    distances = neighbors[1]\n",
    "\n",
    "    # Convert angular distance to cosine similarity\n",
    "    similarity = [1 - (dist / np.pi) for dist in distances]\n",
    "\n",
    "    # Zip the indices and similarity scores\n",
    "    similar_items = list(zip(indices, similarity))\n",
    "\n",
    "    # Sort by similarity score (descending order)\n",
    "    sorted_similar_items = sorted(similar_items, key=lambda x: x[1], reverse=True)\n",
    "\n",
    "    # Extract sorted indices and similarity scores\n",
    "    sorted_indices = [item[0] for item in sorted_similar_items]\n",
    "    sorted_similarity = [item[1] for item in sorted_similar_items]\n",
    "\n",
    "    # Get the metadata (parent_asin) for the sorted indices\n",
    "    sorted_meta_data = list(zip(meta_data.loc[sorted_indices, \"parent_asin\"], sorted_similarity))\n",
    "\n",
    "    return sorted_meta_data\n",
    "\n",
    "get_content_based_similarity(12)\n"
   ]
  },
  {
   "cell_type": "markdown",
   "metadata": {},
   "source": [
    "Step 4: Optionally, save the index to disk and load it later\n"
   ]
  },
  {
   "cell_type": "markdown",
   "metadata": {},
   "source": [
    "## Collaborative filtering\n"
   ]
  },
  {
   "cell_type": "code",
   "execution_count": 21,
   "metadata": {},
   "outputs": [],
   "source": [
    "# Step 5: Matrix Factorization using SVD for collaborative filtering\n",
    "# Create a user-item matrix\n",
    "sample = review_data.sample(frac=0.01, random_state=69)\n",
    "ratings_matrix = sample.pivot_table(values='rating', index='user_id', columns='parent_asin', fill_value=0)\n",
    "X = ratings_matrix.T\n"
   ]
  },
  {
   "cell_type": "code",
   "execution_count": 22,
   "metadata": {},
   "outputs": [
    {
     "data": {
      "text/plain": [
       "(5465, 20)"
      ]
     },
     "execution_count": 22,
     "metadata": {},
     "output_type": "execute_result"
    }
   ],
   "source": [
    "from sklearn.decomposition import TruncatedSVD\n",
    "SVD = TruncatedSVD(n_components=20)\n",
    "decomposed_matrix = SVD.fit_transform(X)\n",
    "decomposed_matrix.shape"
   ]
  },
  {
   "cell_type": "code",
   "execution_count": 23,
   "metadata": {},
   "outputs": [
    {
     "data": {
      "text/plain": [
       "(5465, 5465)"
      ]
     },
     "execution_count": 23,
     "metadata": {},
     "output_type": "execute_result"
    }
   ],
   "source": [
    "correlation_matrix = np.corrcoef(decomposed_matrix)\n",
    "correlation_matrix.shape"
   ]
  },
  {
   "cell_type": "code",
   "execution_count": 24,
   "metadata": {},
   "outputs": [
    {
     "data": {
      "text/plain": [
       "Index(['AE22BJCLGXGMOFCGOUPWWIZH2Y6Q', 'AE22HNPOZDZ5H2SEKGBFPNRYEBYQ',\n",
       "       'AE22YO7RQSCHWCKJKN4JIWN3TXTA', 'AE22ZFX46AGFONCZH7P5GE3MUTCA',\n",
       "       'AE23DIFMPSVCOGAULBBRDNRLNZ3Q', 'AE23KIJ2JIKD26XDJSXSV72I4WLA',\n",
       "       'AE23RMP3HTWB2JTEGJ3VNO2MI4VQ', 'AE24BF25Z4JMISTPKD4N7Y2CLYYA',\n",
       "       'AE24QEHMDJ33JGGB7H6SQ75YWRVQ', 'AE24YFUEKQCAU4CBASXDUR5XXS5A',\n",
       "       ...\n",
       "       'AHZWFUKXIJ44QBNP6EMTT4LDG3EQ', 'AHZXLX7NRQP5FJLMF4YDRYQKVNOA',\n",
       "       'AHZXOWY6UDJK65MHSUUQQ3HQ6FPA', 'AHZYAUJTUYWK3CG3UHFE6A63ZJDA',\n",
       "       'AHZYJQLSEYMT7ASUYC4YMO4GGEQQ', 'AHZYMND5CVIYPI2OMJRAGTSVWZ7Q',\n",
       "       'AHZYXNNQ6NCETE3Y5DDYB7DKJCXQ', 'AHZZAYPSAIB6MCMG7T22GKJ6NCYQ',\n",
       "       'AHZZNFI5O4W2VBH3BMM7RNRO3FTQ', 'AHZZOB5GPQQC3UDUQO2T6CHPSKRA'],\n",
       "      dtype='object', name='user_id', length=6986)"
      ]
     },
     "execution_count": 24,
     "metadata": {},
     "output_type": "execute_result"
    }
   ],
   "source": [
    "\n",
    "ratings_matrix.to_csv('ratings_matrix.csv')\n",
    "\n",
    "correlation_matrix = np.corrcoef(decomposed_matrix)\n",
    "np.save('correlation_matrix.npy', correlation_matrix)\n",
    "\n",
    "ratings_matrix.index"
   ]
  },
  {
   "cell_type": "code",
   "execution_count": 102,
   "metadata": {},
   "outputs": [
    {
     "name": "stdout",
     "output_type": "stream",
     "text": [
      "Index(['B071H2XBYK'], dtype='object', name='parent_asin')\n"
     ]
    },
    {
     "data": {
      "text/plain": [
       "[('B083B67373', 0.9808093811991191),\n",
       " ('B0878WPX5F', 0.967905003864318),\n",
       " ('B07JHF82W9', 0.9571599040797005),\n",
       " ('B07V2CYXB7', 0.9486026642324065),\n",
       " ('B000XRR7N8', 0.943119672419667),\n",
       " ('B00WMB87LO', 0.9407732032082095),\n",
       " ('B00TQ7Z2R4', 0.938137846837185),\n",
       " ('B089RCBXCS', 0.933512974253148),\n",
       " ('B01GAV6MTU', 0.9333171545533422),\n",
       " ('B07J4654TH', 0.9312961877472724)]"
      ]
     },
     "execution_count": 102,
     "metadata": {},
     "output_type": "execute_result"
    }
   ],
   "source": [
    "def recommend_products_by_userID(user_id, ratings_matrix, correlation_matrix, n_top=10):\n",
    "    # Check if the user exists in the ratings matrix\n",
    "    if user_id not in ratings_matrix.index:\n",
    "        print(f\"User {user_id} not found in the dataset.\")\n",
    "        return None\n",
    "\n",
    "    # Get products rated highly by the user (rating > 0)\n",
    "    liked_products = ratings_matrix.loc[user_id][ratings_matrix.loc[user_id] > 0].index\n",
    "    print(liked_products)\n",
    "    if not liked_products.any():\n",
    "        print(f\"User {user_id} has not rated any products.\")\n",
    "        return None\n",
    "    \n",
    "    # Precompute similarity scores for all products (once, instead of in each loop)\n",
    "    similar_products_dict = {}\n",
    "    for product_id in liked_products:\n",
    "        product_idx = list(ratings_matrix.columns).index(product_id)\n",
    "        similarity_scores = correlation_matrix[product_idx]\n",
    "        similar_products_dict[product_id] = similarity_scores\n",
    "\n",
    "    # Find top n similar products for each liked product and update recommendations\n",
    "    recommended_products = []\n",
    "    for product_id, similarity_scores in similar_products_dict.items():\n",
    "        similar_products_idx = np.argsort(similarity_scores)[::-1][1:n_top + 1]  # Skip the first (self-similarity)\n",
    "        \n",
    "        for idx in similar_products_idx:\n",
    "            similar_product_id = ratings_matrix.columns[idx]\n",
    "            similarity_score = similarity_scores[idx]\n",
    "            recommended_products.append((similar_product_id, similarity_score))\n",
    "\n",
    "    return recommended_products\n",
    "\n",
    "recommend_products_by_userID('AE23KIJ2JIKD26XDJSXSV72I4WLA', ratings_matrix, correlation_matrix)"
   ]
  },
  {
   "cell_type": "code",
   "execution_count": null,
   "metadata": {},
   "outputs": [
    {
     "name": "stdout",
     "output_type": "stream",
     "text": [
      "['B071H2XBYK']\n",
      "Index(['B071H2XBYK'], dtype='object', name='parent_asin')\n",
      "Hybrid Recommendations for User 1: 11773    4 Pack FOSTER GRANT Rob READING GLASSES +1.75 ...\n",
      "17758    YMHPRIDE Pre Stretched Braiding Hair 26 Inch 8...\n",
      "24107         2 Point Sling - Without Commode Opening MESH\n",
      "25750    Nicole Miller 2 Pack Mascara Set, 1 Volumizing...\n",
      "41645    Gucci Flora Lavender Gorgeous Gardenia Eau de ...\n",
      "45007    Supershopping Store(TM) Baby Girls Flower Head...\n",
      "52860    Muslin Cloth for Face 100% Cotton | for Makeup...\n",
      "55727    QTBT Daily Honey Sheet Mask with Propolis Extr...\n",
      "56172    Right Guard Xtreme Defense 5 Arctic Refresh An...\n",
      "60402    Barode Black Bride Wedding Crowns and Tiaras B...\n",
      "Name: title, dtype: object\n"
     ]
    }
   ],
   "source": [
    "def get_hybrid_recommendations(user_id, product_data, user_data, top_n=3):\n",
    "    rated_products = user_data[user_data['user_id'] == user_id]['parent_asin'].values\n",
    "    print(rated_products)\n",
    "    \n",
    "    recommend = []\n",
    "    for product in rated_products:\n",
    "        idx = product_data[product_data['parent_asin'] == product].index[0]\n",
    "        sim_scores = list(get_content_based_similarity(idx))\n",
    "        recommend.extend(sim_scores)\n",
    "    \n",
    "    collab_recommend = recommend_products_by_userID(user_id, ratings_matrix, correlation_matrix, n_top=10)\n",
    "    if collab_recommend:\n",
    "        recommend.extend(collab_recommend)\n",
    "        \n",
    "    recommend.sort(key=lambda x: x[1], reverse=True)\n",
    "    products = [product for product, _ in recommend]\n",
    "    return product_data.loc[product_data['parent_asin'].isin(products)].iloc[:top_n]\n",
    "    \n",
    "product_data = None\n",
    "hybrid_recommendations = get_hybrid_recommendations(\"AE23KIJ2JIKD26XDJSXSV72I4WLA\", meta_data, user_data=review_data, top_n=10)\n",
    "print(\"Hybrid Recommendations for User 1:\", hybrid_recommendations[\"title\"])\n"
   ]
  }
 ],
 "metadata": {
  "kernelspec": {
   "display_name": "Python 3",
   "language": "python",
   "name": "python3"
  },
  "language_info": {
   "codemirror_mode": {
    "name": "ipython",
    "version": 3
   },
   "file_extension": ".py",
   "mimetype": "text/x-python",
   "name": "python",
   "nbconvert_exporter": "python",
   "pygments_lexer": "ipython3",
   "version": "3.12.0"
  }
 },
 "nbformat": 4,
 "nbformat_minor": 2
}
