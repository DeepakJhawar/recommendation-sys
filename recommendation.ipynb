{
 "cells": [
  {
   "cell_type": "code",
   "execution_count": 1,
   "metadata": {},
   "outputs": [],
   "source": [
    "import pandas as pd\n",
    "import numpy as np"
   ]
  },
  {
   "cell_type": "code",
   "execution_count": 3,
   "metadata": {},
   "outputs": [
    {
     "name": "stdout",
     "output_type": "stream",
     "text": [
      "ID             0\n",
      "ProdID         0\n",
      "Rating         0\n",
      "ReviewCount    0\n",
      "Category       0\n",
      "Name           0\n",
      "ImageURL       0\n",
      "Description    0\n",
      "Tags           0\n",
      "dtype: int64\n"
     ]
    }
   ],
   "source": [
    "data = pd.read_csv('cleaned_amazon_data.csv')\n",
    "# print(data.head())\n",
    "print(data.isnull().sum())"
   ]
  },
  {
   "cell_type": "code",
   "execution_count": null,
   "metadata": {},
   "outputs": [],
   "source": [
    "from sklearn.preprocessing import MinMaxScaler\n",
    "scaler = MinMaxScaler()\n",
    "data['ReviewCount'] = scaler.fit_transform(data[['ReviewCount']])"
   ]
  },
  {
   "cell_type": "code",
   "execution_count": 7,
   "metadata": {},
   "outputs": [
    {
     "name": "stdout",
     "output_type": "stream",
     "text": [
      "1.0\n"
     ]
    }
   ],
   "source": [
    "print(data['ReviewCount'].max())"
   ]
  },
  {
   "cell_type": "code",
   "execution_count": 9,
   "metadata": {},
   "outputs": [
    {
     "name": "stdout",
     "output_type": "stream",
     "text": [
      "RMSE: 0.2674\n",
      "RMSE: 0.26740087332008317\n",
      "Recommendations: [(698, 4.446715292404889), (1277, 4.431163928789429), (684, 4.42985879415289), (336, 4.399867998437867), (816, 4.396558722623985)]\n"
     ]
    }
   ],
   "source": [
    "from surprise import Dataset, Reader, SVD\n",
    "from surprise.model_selection import train_test_split\n",
    "from surprise.accuracy import rmse\n",
    "\n",
    "# Prepare the data for Surprise\n",
    "reader = Reader(rating_scale=(1, 5))  # Assuming ratings are between 1 and 5\n",
    "interaction_data = Dataset.load_from_df(data[['ID', 'ProdID', 'Rating']], reader)\n",
    "\n",
    "# Split into training and testing sets\n",
    "trainset, testset = train_test_split(interaction_data, test_size=0.2)\n",
    "\n",
    "# Train a matrix factorization model (SVD)\n",
    "model = SVD()\n",
    "model.fit(trainset)\n",
    "\n",
    "# Evaluate the model\n",
    "predictions = model.test(testset)\n",
    "print(\"RMSE:\", rmse(predictions))\n",
    "\n",
    "# Generate recommendations for a user\n",
    "def recommend_for_user(user_id, model, data, top_n=5):\n",
    "    user_products = data[data['ID'] == user_id]['ProdID'].unique()\n",
    "    all_products = data['ProdID'].unique()\n",
    "    recommendations = []\n",
    "\n",
    "    for prod_id in all_products:\n",
    "        if prod_id not in user_products:\n",
    "            pred = model.predict(user_id, prod_id).est\n",
    "            recommendations.append((prod_id, pred))\n",
    "\n",
    "    recommendations.sort(key=lambda x: x[1], reverse=True)\n",
    "    return recommendations[:top_n]\n",
    "\n",
    "# Recommend products for a specific user\n",
    "user_id = 69  # Replace with an actual user ID\n",
    "recommendations = recommend_for_user(user_id, model, data)\n",
    "print(\"Recommendations:\", recommendations)\n"
   ]
  }
 ],
 "metadata": {
  "kernelspec": {
   "display_name": "Python 3",
   "language": "python",
   "name": "python3"
  },
  "language_info": {
   "codemirror_mode": {
    "name": "ipython",
    "version": 3
   },
   "file_extension": ".py",
   "mimetype": "text/x-python",
   "name": "python",
   "nbconvert_exporter": "python",
   "pygments_lexer": "ipython3",
   "version": "3.12.0"
  }
 },
 "nbformat": 4,
 "nbformat_minor": 2
}
